{
 "cells": [
  {
   "cell_type": "markdown",
   "metadata": {},
   "source": [
    "# # Question 2"
   ]
  },
  {
   "cell_type": "code",
   "execution_count": 2,
   "metadata": {
    "scrolled": true
   },
   "outputs": [
    {
     "data": {
      "text/plain": [
       "Date Time       2018-10-10 18:06\n",
       " Water Level               6.647\n",
       "Name: 421, dtype: object"
      ]
     },
     "execution_count": 2,
     "metadata": {},
     "output_type": "execute_result"
    }
   ],
   "source": [
    "import pandas as pd \n",
    "url = 'https://raw.githubusercontent.com/sammyarroyo/Class_Files/master/data/CO-OPS__8729108__wl.csv'\n",
    "df = pd.read_csv(url)\n",
    "df1 = pd.DataFrame(df, columns = ['Date Time', ' Water Level'])\n",
    "\n",
    "\n",
    "\n",
    "df1.loc[df1[' Water Level'].idxmax()]\n"
   ]
  },
  {
   "cell_type": "markdown",
   "metadata": {},
   "source": [
    "## Question 3"
   ]
  },
  {
   "cell_type": "code",
   "execution_count": 55,
   "metadata": {},
   "outputs": [
    {
     "name": "stdout",
     "output_type": "stream",
     "text": [
      "          Date Time   Water Level  difference\n",
      "0  2018-10-09 00:00         2.421         NaN\n",
      "1  2018-10-09 00:06         2.454       0.033\n",
      "2  2018-10-09 00:12         2.461       0.007\n",
      "3  2018-10-09 00:18         2.444      -0.017\n",
      "4  2018-10-09 00:24         2.431      -0.013\n",
      "5  2018-10-09 00:30         2.421      -0.010\n",
      "6  2018-10-09 00:36         2.411      -0.010\n",
      "7  2018-10-09 00:42         2.375      -0.036\n",
      "8  2018-10-09 00:48         2.388       0.013\n",
      "9  2018-10-09 00:54         2.365      -0.023\n"
     ]
    },
    {
     "data": {
      "text/plain": [
       "Date Time       2018-10-10 17:42\n",
       " Water Level               5.591\n",
       "difference                  0.64\n",
       "Name: 417, dtype: object"
      ]
     },
     "execution_count": 55,
     "metadata": {},
     "output_type": "execute_result"
    }
   ],
   "source": [
    "df1 = df1.assign(difference=df1[' Water Level'].diff())\n",
    "print(df1.head(10))\n",
    "\n",
    "df1.loc[df1['difference'].idxmax()]"
   ]
  },
  {
   "cell_type": "markdown",
   "metadata": {},
   "source": [
    "## Question 4"
   ]
  },
  {
   "cell_type": "code",
   "execution_count": 56,
   "metadata": {},
   "outputs": [
    {
     "data": {
      "text/plain": [
       "<matplotlib.axes._subplots.AxesSubplot at 0x1219cacc0>"
      ]
     },
     "execution_count": 56,
     "metadata": {},
     "output_type": "execute_result"
    },
    {
     "data": {
      "image/png": "[encoded data removed]",
      "text/plain": [
       "<Figure size 432x288 with 1 Axes>"
      ]
     },
     "metadata": {},
     "output_type": "display_data"
    }
   ],
   "source": [
    "%matplotlib inline\n",
    "import matplotlib.pyplot as plt\n",
    "plt.style.use('seaborn-whitegrid')\n",
    "import numpy as np\n",
    "\n",
    "df1.plot.line(x='Date Time', y=' Water Level')"
   ]
  }
 ],
 "metadata": {
  "kernelspec": {
   "display_name": "Python 3",
   "language": "python",
   "name": "python3"
  },
  "language_info": {
   "codemirror_mode": {
    "name": "ipython",
    "version": 3
   },
   "file_extension": ".py",
   "mimetype": "text/x-python",
   "name": "python",
   "nbconvert_exporter": "python",
   "pygments_lexer": "ipython3",
   "version": "3.6.5"
  }
 },
 "nbformat": 4,
 "nbformat_minor": 2
}
